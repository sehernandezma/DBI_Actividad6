{
 "cells": [
  {
   "cell_type": "markdown",
   "id": "11bd2e0c",
   "metadata": {},
   "source": [
    "## Actividad 06: Jugando con funciones\n"
   ]
  },
  {
   "cell_type": "markdown",
   "id": "954f3f3a",
   "metadata": {},
   "source": [
    "## Sebastián Hernández Mantilla"
   ]
  },
  {
   "cell_type": "markdown",
   "id": "1bc947b6",
   "metadata": {},
   "source": [
    "## Desarrollo\n",
    "### Representación de funciones univariadas\n",
    "#### Para las siguientes funciones\n",
    "- f(x)=x^3+x^2, x∈R\n",
    "- f(x)=e−^2, x∈R\n",
    "- f(x)=xcos(αx), −10≤x≤10\n",
    "- f(x)=x^2, −1≤x≤1\n",
    "- f(x)=sin(x)x , −1≤x≤1\n",
    "\n",
    "#### se requiere:\n",
    "#### A.) Obtener su gráfica y clasificarlas en: Convexa o Concava, Continua o Discontinua y si es Suave o no \n",
    "\n",
    "#### Para comprobar que una función es concava o convexa,(en un intervalo I), se utiliza la siguiente regla:\n",
    "- Si f''(x) > 0 para toda x en I, la función es convexa \n",
    "- Si f''(x) < 0 para toda x en I, la función es concava\n",
    "\n",
    "#### Para saber si una función es continua se puede decir que:\n",
    "- Dado una función f(x) y un intervalo I para cualquier punto c ∈ I la función es continua si se cumple que el límite de f(x) cuando x tiende a c, es igual por la parte positiva y la la parte negativa\n",
    "- Se puede utilizar un regla mucho más intuitiva: la función es continua si al dibujarla a mano no es necesario levantar el lapiz del papel\n",
    "\n",
    "#### Para saber si una función es suave se utiliza la siguiente regla:\n",
    "- Dado una función f(x) y un intervalo I para cualquier punto c ∈ I la función es continua si es diferenciable en todo el intervalo\n",
    "\n",
    "#### B.) De una de las funciones, obtener su primera y segunda derivada, y graficar las tres curvas en el mismo plano"
   ]
  },
  {
   "cell_type": "markdown",
   "id": "86ba10c4",
   "metadata": {},
   "source": [
    "### A.)Gráfica y clasificación"
   ]
  },
  {
   "cell_type": "markdown",
   "id": "0e09bd7b",
   "metadata": {},
   "source": [
    "### 1.) f(x)=x^3+x^2, x∈R\n"
   ]
  },
  {
   "cell_type": "code",
   "execution_count": 1,
   "id": "3977376e",
   "metadata": {},
   "outputs": [],
   "source": [
    "import math\n",
    "from sympy import symbols,cos,sin\n",
    "from sympy.plotting import plot\n",
    "from sympy import *"
   ]
  },
  {
   "cell_type": "code",
   "execution_count": null,
   "id": "3c9553ac",
   "metadata": {},
   "outputs": [],
   "source": [
    "x = symbols('x')\n",
    "p1 = plot(x**3+x**2, show=False)\n",
    "p1.show()"
   ]
  },
  {
   "cell_type": "markdown",
   "id": "f67cffdc",
   "metadata": {},
   "source": [
    "![](imagenes/Captura1.PNG)"
   ]
  },
  {
   "cell_type": "markdown",
   "id": "4ae107ad",
   "metadata": {},
   "source": [
    "#### Gráfica de la segunda derivada"
   ]
  },
  {
   "cell_type": "code",
   "execution_count": null,
   "id": "11b3a17b",
   "metadata": {},
   "outputs": [],
   "source": [
    "deriv1 = diff(x**3+x**2, x)\n",
    "deriv2 = diff(deriv1, x)\n",
    "plot(deriv2)\n",
    "#deriv2"
   ]
  },
  {
   "cell_type": "markdown",
   "id": "de201407",
   "metadata": {},
   "source": [
    "![](imagenes/Captura2.PNG)"
   ]
  },
  {
   "cell_type": "markdown",
   "id": "83c040c4",
   "metadata": {},
   "source": [
    "- Para el intervalo [-10,0) la función es convexa \n",
    "- Para el intervalo (0,10] la función es concava\n",
    "#### Además la función es continua y suave Continua  "
   ]
  },
  {
   "cell_type": "markdown",
   "id": "17923df7",
   "metadata": {},
   "source": [
    "### 2.) f(x)=e−^2, x∈R\n"
   ]
  },
  {
   "cell_type": "code",
   "execution_count": null,
   "id": "225dfeb3",
   "metadata": {},
   "outputs": [],
   "source": [
    "val = math.exp(-2) \n",
    "p2 = plot(val, show=False)\n",
    "p2.show()"
   ]
  },
  {
   "cell_type": "markdown",
   "id": "10224cbb",
   "metadata": {},
   "source": [
    "![](imagenes/Captura3.PNG)"
   ]
  },
  {
   "cell_type": "markdown",
   "id": "c49daeec",
   "metadata": {},
   "source": [
    "#### La segunda derivada de esta funcion es 0, esto quiere decir que la función no es ni concava ni convexa"
   ]
  },
  {
   "cell_type": "code",
   "execution_count": 16,
   "id": "df178ad0",
   "metadata": {},
   "outputs": [
    {
     "name": "stdout",
     "output_type": "stream",
     "text": [
      "Primera derivada:  0\n",
      "Segunda derivada:  0\n"
     ]
    }
   ],
   "source": [
    "deriv1 = diff(val, x)\n",
    "deriv2 = diff(deriv1, x)\n",
    "print('Primera derivada: ',deriv1)\n",
    "print('Segunda derivada: ',deriv2)"
   ]
  },
  {
   "cell_type": "markdown",
   "id": "eba38ac8",
   "metadata": {},
   "source": [
    "#### La función es continua y suave"
   ]
  },
  {
   "cell_type": "markdown",
   "id": "3075f613",
   "metadata": {},
   "source": [
    "### 3.) f(x)=xcos(αx), −10≤x≤10"
   ]
  },
  {
   "cell_type": "code",
   "execution_count": null,
   "id": "727ebf3a",
   "metadata": {},
   "outputs": [],
   "source": [
    "x = symbols('x')\n",
    "p3 = plot(x*cos(x), show=False)\n",
    "p3.show()"
   ]
  },
  {
   "cell_type": "markdown",
   "id": "08c0446e",
   "metadata": {},
   "source": [
    "![](imagenes/Captura4.PNG)"
   ]
  },
  {
   "cell_type": "markdown",
   "id": "d56c6974",
   "metadata": {},
   "source": [
    "#### Gráfica de la segunda derivada"
   ]
  },
  {
   "cell_type": "code",
   "execution_count": null,
   "id": "5dc318f3",
   "metadata": {},
   "outputs": [],
   "source": [
    "deriv1 = diff(x*cos(x), x)\n",
    "deriv2 = diff(deriv1, x)\n",
    "plot(deriv2)"
   ]
  },
  {
   "cell_type": "markdown",
   "id": "78189295",
   "metadata": {},
   "source": [
    "![](imagenes/Captura5.PNG)"
   ]
  },
  {
   "cell_type": "markdown",
   "id": "9ef1af8c",
   "metadata": {},
   "source": [
    "#### Para todo el intervalo no se puede decir que la función es concava o convexa"
   ]
  },
  {
   "cell_type": "markdown",
   "id": "e2331221",
   "metadata": {},
   "source": [
    "### 4.) f(x)=1/|x|, −1≤x≤1"
   ]
  },
  {
   "cell_type": "code",
   "execution_count": null,
   "id": "6860fad7",
   "metadata": {},
   "outputs": [],
   "source": [
    "x = symbols('x')\n",
    "#p3 = plot([x >= -10, x <= 10, x*math.cos(x)], show=False)\n",
    "p4 = plot(1/abs(x), xlim=[-1,1], show=False)\n",
    "p4.show()"
   ]
  },
  {
   "cell_type": "markdown",
   "id": "9f69096e",
   "metadata": {},
   "source": [
    "![](imagenes/Captura6.PNG)"
   ]
  },
  {
   "cell_type": "markdown",
   "id": "baa8efbf",
   "metadata": {},
   "source": [
    "#### La función no es derivable en 0,(f(0) tiende a infinito),esto quiere decir que la función no es suave ni continua \n",
    "#### Para el intervalo [-1,0) y (0,1] la función es positiva"
   ]
  },
  {
   "cell_type": "markdown",
   "id": "25dc1392",
   "metadata": {},
   "source": [
    "### 5.) f(x)=x^2, −1≤x≤1"
   ]
  },
  {
   "cell_type": "code",
   "execution_count": null,
   "id": "988204f6",
   "metadata": {},
   "outputs": [],
   "source": [
    "x = symbols('x')\n",
    "#p3 = plot([x >= -10, x <= 10, x*math.cos(x)], show=False)\n",
    "p5 = plot(x**2, xlim=[-1,1], show=False)\n",
    "p5.show()"
   ]
  },
  {
   "cell_type": "markdown",
   "id": "2cde57ad",
   "metadata": {},
   "source": [
    "![](imagenes/Captura7.PNG)"
   ]
  },
  {
   "cell_type": "code",
   "execution_count": null,
   "id": "7b338a48",
   "metadata": {},
   "outputs": [],
   "source": [
    "deriv1 = diff(x**2, x,xlim=[-1,1])\n",
    "deriv2 = diff(deriv1, x)\n",
    "plot(deriv2)"
   ]
  },
  {
   "cell_type": "markdown",
   "id": "918119c6",
   "metadata": {},
   "source": [
    "![](imagenes/Captura8.PNG)"
   ]
  },
  {
   "cell_type": "markdown",
   "id": "3b8fb49e",
   "metadata": {},
   "source": [
    "#### La segunda derivada es positiva en todo el intervalo esto quiere decir que la función es convexa\n",
    "#### La función es continua y suave"
   ]
  },
  {
   "cell_type": "markdown",
   "id": "8f51c6c8",
   "metadata": {},
   "source": [
    "### 6.) f(x)=sin(x)x , −1≤x≤1"
   ]
  },
  {
   "cell_type": "markdown",
   "id": "4fa461ef",
   "metadata": {},
   "source": [
    "#### Convexa"
   ]
  },
  {
   "cell_type": "code",
   "execution_count": null,
   "id": "d967a67d",
   "metadata": {},
   "outputs": [],
   "source": [
    "x = symbols('x')\n",
    "#p3 = plot([x >= -10, x <= 10, x*math.cos(x)], show=False)\n",
    "p6 = plot(sin(x)*x, xlim=[-1,1], show=False)\n",
    "p6.show()"
   ]
  },
  {
   "cell_type": "markdown",
   "id": "7b0d05ef",
   "metadata": {},
   "source": [
    "![](imagenes/Captura9.PNG)"
   ]
  },
  {
   "cell_type": "code",
   "execution_count": null,
   "id": "45972d33",
   "metadata": {},
   "outputs": [],
   "source": [
    "deriv1 = diff(sin(x)*x, x)\n",
    "deriv2 = diff(deriv1, x)\n",
    "plot(deriv2, xlim = [-1,1])"
   ]
  },
  {
   "cell_type": "markdown",
   "id": "713afec2",
   "metadata": {},
   "source": [
    "![](imagenes/Captura10.PNG)"
   ]
  },
  {
   "cell_type": "markdown",
   "id": "38052ddd",
   "metadata": {},
   "source": [
    "#### La segunda derivada es positiva en todo el intervalo esto quiere decir que la función es convexa\n",
    "#### La función es continua y suave"
   ]
  },
  {
   "cell_type": "markdown",
   "id": "8f718c35",
   "metadata": {},
   "source": [
    "### B.) Para f(x) = sin(x)*x se obtienen la primera y segunda derivada y se grafican"
   ]
  },
  {
   "cell_type": "code",
   "execution_count": null,
   "id": "02d57ab7",
   "metadata": {},
   "outputs": [],
   "source": [
    "from sympy import *\n",
    "import sympy\n",
    "x = symbols('x')\n",
    "fun = sin(x)*x\n",
    "deriv1 = diff(sin(x)*x, x)\n",
    "deriv2 = diff(deriv1, x)\n",
    "p6 = sympy.plot(sin(x)*x, xlim=[-10,10], show=False)\n",
    "p7 = sympy.plot(deriv1, xlim=[-10,10], show=False)\n",
    "p8 = sympy.plot(deriv2, xlim=[-10,10], show=False)\n",
    "\n",
    "p6.extend(p7)\n",
    "p6.extend(p8)\n",
    "#p9.extend(p8)\n",
    "p6[1].line_color = 'r'\n",
    "p6[2].line_color = 'g'\n",
    "\n",
    "p6.show()"
   ]
  },
  {
   "cell_type": "markdown",
   "id": "7b411442",
   "metadata": {},
   "source": [
    "![](imagenes/Captura11.PNG)"
   ]
  },
  {
   "cell_type": "markdown",
   "id": "5a053289",
   "metadata": {},
   "source": [
    "- Rojo: 𝑥sin(𝑥) \n",
    "- Verde: 𝑥cos(𝑥)+sin(𝑥) 1° derivada \n",
    "- Azul −𝑥sin(𝑥)+2cos(𝑥) 2° derrivada"
   ]
  },
  {
   "cell_type": "markdown",
   "id": "2d7d0a7e",
   "metadata": {},
   "source": [
    "## Representación de funciones de dos variables\n",
    "#### Para la función f(x1,x2)=100(x2−x2^2)+(1−x1)^2 , xi ∈ [−2.048,2.048], i=1,2 se grafican las curvas de nivel "
   ]
  },
  {
   "cell_type": "code",
   "execution_count": 29,
   "id": "1edffa24",
   "metadata": {},
   "outputs": [],
   "source": [
    "import plotly.graph_objects as go\n",
    "import pandas as pd"
   ]
  },
  {
   "cell_type": "code",
   "execution_count": null,
   "id": "3b88558c",
   "metadata": {},
   "outputs": [],
   "source": [
    "import numpy as np\n",
    "import matplotlib.pyplot as plot\n",
    "import pylab\n",
    "\n",
    "# lista de puntos para x & y\n",
    "XPoints     = []\n",
    "YPoints     = []\n",
    "\n",
    "# se crea el rango de x & y dentro de [-2.042,2.042] \n",
    "for val in range(-20, 21, 1):\n",
    "    XPoints.append(val/10)\n",
    "    YPoints.append(val/10)\n",
    "\n",
    "# se inicializa z como superficie\n",
    "ZPoints     = np.ndarray((41,41))\n",
    "\n",
    "# se crean los resultados en z     \n",
    "for x in range(0, len(XPoints)):\n",
    "    for y in range(0, len(YPoints)):\n",
    "        ZPoints[x][y] = 100 * (YPoints[x] - XPoints[x]**2) + (1-XPoints[x])**2\n",
    "\n",
    "# grafica \n",
    "pylab.xlim([-3,3])\n",
    "pylab.ylim([-3,3])\n",
    "\n",
    "plot.title('Curvas de nivel')\n",
    "plot.xlabel('X')\n",
    "plot.ylabel('Y')\n",
    "\n",
    "# curvas de nivel o de contorno\n",
    "contours = plot.contour(XPoints, YPoints, ZPoints)\n",
    "plot.clabel(contours, inline=1, fontsize=10)\n",
    "\n",
    "plot.show()"
   ]
  },
  {
   "cell_type": "markdown",
   "id": "7245a519",
   "metadata": {},
   "source": [
    "![](imagenes/Captura12.PNG)"
   ]
  },
  {
   "cell_type": "code",
   "execution_count": null,
   "id": "87fdf648",
   "metadata": {},
   "outputs": [],
   "source": [
    "import plotly.graph_objects as go\n",
    "import pandas as pd\n",
    "import numpy as np\n",
    "\n",
    "fig = go.Figure(data=[go.Surface(z=ZPoints, x=XPoints, y=YPoints)])\n",
    "fig.show()"
   ]
  },
  {
   "cell_type": "markdown",
   "id": "07c178ad",
   "metadata": {},
   "source": [
    "![](imagenes/newplot.png)"
   ]
  },
  {
   "cell_type": "markdown",
   "id": "136fca63",
   "metadata": {},
   "source": [
    "### Bibliografía"
   ]
  },
  {
   "cell_type": "markdown",
   "id": "46de44ea",
   "metadata": {},
   "source": [
    "- https://www.hec.ca/en/cams/help/topics/The_second_derivative.pdf\n",
    "- https://www.sympy.org/es/\n",
    "- https://plotly.com/python/3d-surface-plots/\n",
    "- https://www.khanacademy.org/math/ap-calculus-ab/ab-limits-new/ab-1-11/v/continuity-at-a-point#:~:text=Saying%20a%20function%20f%20is,equal%20to%20f(c).\n",
    "- https://pythontic.com/visualization/charts/contour%20plot    "
   ]
  },
  {
   "cell_type": "code",
   "execution_count": null,
   "id": "9224b57d",
   "metadata": {},
   "outputs": [],
   "source": []
  }
 ],
 "metadata": {
  "kernelspec": {
   "display_name": "Python 3",
   "language": "python",
   "name": "python3"
  },
  "language_info": {
   "codemirror_mode": {
    "name": "ipython",
    "version": 3
   },
   "file_extension": ".py",
   "mimetype": "text/x-python",
   "name": "python",
   "nbconvert_exporter": "python",
   "pygments_lexer": "ipython3",
   "version": "3.8.3"
  }
 },
 "nbformat": 4,
 "nbformat_minor": 5
}
